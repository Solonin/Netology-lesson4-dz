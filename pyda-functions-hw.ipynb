{
 "cells": [
  {
   "cell_type": "markdown",
   "metadata": {},
   "source": [
    "## Задание 1"
   ]
  },
  {
   "cell_type": "markdown",
   "metadata": {},
   "source": [
    "Дан список вида:"
   ]
  },
  {
   "cell_type": "code",
   "execution_count": 201,
   "metadata": {},
   "outputs": [],
   "source": [
    "data = [\n",
    "    [13, 25, 23, 34],\n",
    "    [45, 32, 44, 47],\n",
    "    [12, 33, 23, 95],\n",
    "    [13, 53, 34, 35]\n",
    "]"
   ]
  },
  {
   "cell_type": "markdown",
   "metadata": {},
   "source": [
    "Напишите функцию, которая возвращает сумму элементов на диагонали. Т. е. 13+32+23+35.  \n",
    "Список может быть любой длины, но всегда является \"квадратным\" (количество элементов во вложенных списках равно их количеству)."
   ]
  },
  {
   "cell_type": "code",
   "execution_count": 204,
   "metadata": {},
   "outputs": [
    {
     "name": "stdout",
     "output_type": "stream",
     "text": [
      "Сумма по диагонали: 103\n",
      "Сумма элементов на диагонали: 13+32+23+35\n"
     ]
    }
   ],
   "source": [
    "def diag(data):\n",
    "    i = 0\n",
    "    strdiag = ''\n",
    "    for row in data:        \n",
    "        strdiag += str(row[i])\n",
    "        i += 1\n",
    "        if not i == len(data):\n",
    "            strdiag += '+'        \n",
    "    return strdiag\n",
    "\n",
    "def sumdiag(data):\n",
    "    i = 0\n",
    "    result = 0\n",
    "    for row in data:        \n",
    "        result += row[i]\n",
    "        i += 1\n",
    "    return result\n",
    "\n",
    "print('Сумма по диагонали:', sumdiag(data))\n",
    "print('Сумма элементов на диагонали:', diag(data))"
   ]
  },
  {
   "cell_type": "code",
   "execution_count": null,
   "metadata": {},
   "outputs": [],
   "source": []
  },
  {
   "cell_type": "markdown",
   "metadata": {},
   "source": [
    "## Задание 2"
   ]
  },
  {
   "cell_type": "markdown",
   "metadata": {},
   "source": [
    "Напишите функцию, возвращающую сумму первых n чисел Фибоначчи (для этого вам может понадобится ознакомиться с рекурсией)."
   ]
  },
  {
   "cell_type": "code",
   "execution_count": 207,
   "metadata": {},
   "outputs": [
    {
     "name": "stdout",
     "output_type": "stream",
     "text": [
      "Введите кол-во элементов ряда Фибоначчи: 5\n",
      "Сумма первых 5 чисел Фибоначчи: 12\n"
     ]
    }
   ],
   "source": [
    "n = int(input(\"Введите кол-во элементов ряда Фибоначчи: \"))\n",
    "\n",
    "def fib(n):\n",
    "    if n in (1, 2):\n",
    "        return 1    \n",
    "    return fib(n - 1) + fib(n - 2)\n",
    "\n",
    "s = 0\n",
    "for i in range(1, n + 1):\n",
    "    s += fib(i)\n",
    "    \n",
    "print(\"Сумма первых\", n, \"чисел Фибоначчи:\", s)"
   ]
  },
  {
   "cell_type": "code",
   "execution_count": null,
   "metadata": {},
   "outputs": [],
   "source": []
  },
  {
   "cell_type": "markdown",
   "metadata": {},
   "source": [
    "## Задание 3\n"
   ]
  },
  {
   "cell_type": "markdown",
   "metadata": {},
   "source": [
    "Напишите функцию, преобразующую произвольный список вида ['2018-01-01', 'yandex', 'cpc', 100] (он может быть любой длины) в словарь {'2018-01-01': {'yandex': {'cpc': 100}}}"
   ]
  },
  {
   "cell_type": "code",
   "execution_count": 223,
   "metadata": {},
   "outputs": [
    {
     "data": {
      "text/plain": [
       "{'2018-01-01': {'yandex': {'cpc': 100}}}"
      ]
     },
     "execution_count": 223,
     "metadata": {},
     "output_type": "execute_result"
    }
   ],
   "source": [
    "listStart = ['2018-01-01', 'yandex', 'cpc', 100]\n",
    "\n",
    "def getDict(listStart):\n",
    "    dictResult = {}\n",
    "    dictTemp = {}\n",
    "    \n",
    "    if len(listStart) >= 2:\n",
    "        dictResult[listStart[-2]] = listStart[-1]\n",
    "        listStart.reverse()\n",
    "        \n",
    "        for i in range(2, len(listStart)):\n",
    "            dictTemp[listStart[i]] = dictResult\n",
    "            dictResult = dictTemp.copy()\n",
    "            dictTemp.clear()    \n",
    "    \n",
    "    return dictResult\n",
    "\n",
    "getDict(listStart)"
   ]
  },
  {
   "cell_type": "code",
   "execution_count": null,
   "metadata": {},
   "outputs": [],
   "source": []
  },
  {
   "cell_type": "markdown",
   "metadata": {},
   "source": [
    "## Задание 4"
   ]
  },
  {
   "cell_type": "markdown",
   "metadata": {},
   "source": [
    "Вы работаете секретарем и вам постоянно приходят различные документы. Вы должны быть очень внимательны, чтобы не потерять ни один документ. Каталог документов хранится в следующем виде:"
   ]
  },
  {
   "cell_type": "code",
   "execution_count": 236,
   "metadata": {},
   "outputs": [],
   "source": [
    "documents = [\n",
    "    {'type': 'passport', 'number': '2207 876234', 'name': 'Василий Гупкин'},\n",
    "    {'type': 'invoice', 'number': '11-2', 'name': 'Геннадий Покемонов'},\n",
    "    {'type': 'insurance', 'number': '10006', 'name': 'Аристарх Павлов'}\n",
    "]"
   ]
  },
  {
   "cell_type": "markdown",
   "metadata": {},
   "source": [
    "Перечень полок, на которых находятся документы хранится в следующем виде:"
   ]
  },
  {
   "cell_type": "code",
   "execution_count": 237,
   "metadata": {},
   "outputs": [],
   "source": [
    "directories = {\n",
    "    '1': ['2207 876234', '11-2', '5455 028765'],\n",
    "    '2': ['10006', '5400 028765', '5455 002299'],\n",
    "    '3': []\n",
    "}"
   ]
  },
  {
   "cell_type": "markdown",
   "metadata": {},
   "source": [
    "Необходимо реализовать пользовательские команды (внимание! это не название функций, которые должны быть выразительными, а команды, которые вводит пользователь, чтобы получить необходимый результат):\n",
    "  \n",
    "- p – people – команда, которая спросит номер документа и выведет имя человека, которому он принадлежит;  \n",
    "- s – shelf – команда, которая спросит номер документа и выведет номер полки, на которой он находится  \n",
    "Правильно обработайте ситуацию, когда пользователь будет вводить несуществующий документ.\n",
    "- l – list – команда, которая выведет список всех документов в формате   \n",
    "**passport \"2207 876234\" \"Василий Гупкин\"**  \n",
    "- as – add shelf – команда, которая спросит номер новой полки и добавит ее в перечень\n",
    "- d – delete – команда, которая спросит номер документа и удалит его из каталога и из перечня полок. Предусмотрите сценарий, когда пользователь вводит несуществующий документ;  \n",
    "- m – move – команда, которая спросит номер документа и целевую полку и переместит его с текущей полки на целевую. Корректно обработайте кейсы, когда пользователь пытается переместить несуществующий документ или переместить документ на несуществующую полку;  \n",
    "- a – add – команда, которая добавит новый документ в каталог и в перечень полок, спросив его номер, тип, имя владельца и номер полки, на котором он будет храниться."
   ]
  },
  {
   "cell_type": "code",
   "execution_count": 251,
   "metadata": {},
   "outputs": [
    {
     "name": "stdout",
     "output_type": "stream",
     "text": [
      "Введите команду: l\n",
      "passport 2207 876234 Василий Гупкин\n",
      "invoice 11-2 Геннадий Покемонов\n",
      "insurance 10006 Аристарх Павлов\n",
      "end\n"
     ]
    }
   ],
   "source": [
    "com = input('Введите команду: ')\n",
    "\n",
    "\n",
    "def checkDoc(docNum):\n",
    "    for document in documents:\n",
    "        if document['number'] == docNum:\n",
    "            return True\n",
    "    return False\n",
    "\n",
    "def checkShelf(shelfNum):\n",
    "    if directories.get(shelfNum) == None:\n",
    "        return False\n",
    "    return True\n",
    "\n",
    "def getdocNum():\n",
    "    docNum = input('Введите номер документа: ')\n",
    "    return docNum\n",
    "\n",
    "def getPeople(docNum):    \n",
    "    for document in documents:\n",
    "        if docNum == document['number']:            \n",
    "            return document['name']\n",
    "    return 'Документ ' + docNum + ' не найден'\n",
    "\n",
    "def getShelf(docNum):    \n",
    "    if checkDoc(docNum):\n",
    "        for key, item in directories.items():        \n",
    "            if docNum in item:\n",
    "                return key\n",
    "    return 'Документ ' + docNum + ' не найден'\n",
    "\n",
    "def getlist():\n",
    "    for document in documents:\n",
    "        print (document['type'], document['number'], document['name'])\n",
    "\n",
    "def addShelf(shelfNum):    \n",
    "    if not checkShelf(shelfNum):        \n",
    "        directories[shelfNum] = []\n",
    "        return 'Добавили полку ' + shelfNum\n",
    "    else:\n",
    "        return 'Полка ' + shelfNum + ' уже есть'\n",
    "\n",
    "def addDoc(docNum, docType, docOwner, shelfNum):\n",
    "    if checkShelf(shelfNum):\n",
    "        if not checkDoc(docNum):\n",
    "            #добавляем документ в список\n",
    "            newDoc = {}\n",
    "            newDoc['type'] = docType\n",
    "            newDoc['number'] = docNum\n",
    "            newDoc['name'] = docOwner\n",
    "            documents.append(newDoc)\n",
    "            #добавляем документ на полку\n",
    "            directories[shelfNum].append(docNum)\n",
    "            return 'Документ ' + docNum + ' добавлен'\n",
    "        return 'Документ ' + docNum + ' уже существует'\n",
    "    return 'Полка ' + shelfNum + ' не существует'\n",
    "\n",
    "def delDocOnShelf(docNum):    \n",
    "    for key, item in directories.items():        \n",
    "        if docNum in item:\n",
    "            item.remove(docNum)\n",
    "            return 'Документ на полке номер ' + key + ' удален'        \n",
    "    return 'Документ ' + docNum + ' на полке не найден'\n",
    "\n",
    "def delDoc(docNum):    \n",
    "    for document in documents:\n",
    "        if document['number'] == docNum:            \n",
    "            documents.remove(document)\n",
    "            print(delDocOnShelf(docNum))\n",
    "            return 'Документ ' + docNum + ' из списка документов удален'\n",
    "    return 'Документа ' + docNum + ' в списке документов нет'\n",
    "\n",
    "def moveDoc(docNum):    \n",
    "    if checkDoc(docNum):\n",
    "        shelfnum = input('Введите номер целевой полки: ')\n",
    "        if checkShelf(shelfNum):            \n",
    "            #удаляем документ со старой полки\n",
    "            delDocOnShelf(docNum)\n",
    "            #заносим документ на новую полку\n",
    "            directories[shelfNum].append(docNum)            \n",
    "            return 'Документ ' + docNum + ' перенесен'            \n",
    "        return 'Полка ' + shelfNum + ' не существует'        \n",
    "    return 'Документ ' + docNum + ' не найден'\n",
    "\n",
    "\n",
    "if com == 'p':\n",
    "    docNum = getdocNum()\n",
    "    print(getPeople(docNum))\n",
    "\n",
    "if com == 's':\n",
    "    docNum = getdocNum()\n",
    "    print(getShelf(docNum))\n",
    "    \n",
    "if com == 'l':\n",
    "    getlist()\n",
    "\n",
    "if com == 'as':\n",
    "    shelf = input('Введите номер новой полки: ')\n",
    "    print(addShelf(shelf))\n",
    "\n",
    "if com == 'd':\n",
    "    docNum = getdocNum()\n",
    "    print(delDoc(docNum))\n",
    "    \n",
    "if com == 'm':\n",
    "    docNum = getdocNum()\n",
    "    print(moveDoc(docNum))\n",
    "    \n",
    "if com == 'a':\n",
    "    docNum = getdocNum()\n",
    "    docType = input('Введите тип документа: ')\n",
    "    docOwner = input('Введите имя владельца: ')\n",
    "    shelfNum = input('Введите номер полки: ')\n",
    "    print(addDoc(docNum, docType, docOwner, shelfNum))\n",
    "    \n",
    "print('end')\n"
   ]
  },
  {
   "cell_type": "code",
   "execution_count": null,
   "metadata": {},
   "outputs": [],
   "source": []
  },
  {
   "cell_type": "code",
   "execution_count": null,
   "metadata": {},
   "outputs": [],
   "source": []
  },
  {
   "cell_type": "code",
   "execution_count": null,
   "metadata": {},
   "outputs": [],
   "source": []
  }
 ],
 "metadata": {
  "kernelspec": {
   "display_name": "Python 3",
   "language": "python",
   "name": "python3"
  },
  "language_info": {
   "codemirror_mode": {
    "name": "ipython",
    "version": 3
   },
   "file_extension": ".py",
   "mimetype": "text/x-python",
   "name": "python",
   "nbconvert_exporter": "python",
   "pygments_lexer": "ipython3",
   "version": "3.7.4"
  }
 },
 "nbformat": 4,
 "nbformat_minor": 2
}
